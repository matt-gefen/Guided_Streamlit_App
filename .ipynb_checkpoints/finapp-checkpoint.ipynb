{
 "cells": [
  {
   "cell_type": "markdown",
   "metadata": {},
   "source": [
    "## Streamlit Guided Web App"
   ]
  },
  {
   "cell_type": "markdown",
   "metadata": {},
   "source": [
    "This notebook will be following along to Chanin Nantasenamat's article on Medium: How to Build a Data Science Web App in Python. Link: https://towardsdatascience.com/how-to-build-a-data-science-web-app-in-python-61d1bed65020\n",
    "\n",
    "The main goal here will be to build a simple, functioning web app that displays stock prices and volume using the streamlit package"
   ]
  },
  {
   "cell_type": "markdown",
   "metadata": {},
   "source": [
    "### Importing Packages"
   ]
  },
  {
   "cell_type": "code",
   "execution_count": 1,
   "metadata": {},
   "outputs": [],
   "source": [
    "import yfinance as yf\n",
    "import streamlit as st"
   ]
  },
  {
   "cell_type": "markdown",
   "metadata": {},
   "source": [
    "### Getting the output into Markdown"
   ]
  },
  {
   "cell_type": "code",
   "execution_count": 2,
   "metadata": {},
   "outputs": [],
   "source": [
    "st.write(\"\"\"\n",
    "# Simple Stock Price App\n",
    "Shown are the stock closing price and volume of Google!\n",
    "\"\"\")"
   ]
  },
  {
   "cell_type": "code",
   "execution_count": 3,
   "metadata": {},
   "outputs": [],
   "source": [
    "tickerSymbol = 'GOOGL'"
   ]
  },
  {
   "cell_type": "code",
   "execution_count": 4,
   "metadata": {},
   "outputs": [],
   "source": [
    "tickerData = yf.Ticker(tickerSymbol)"
   ]
  },
  {
   "cell_type": "code",
   "execution_count": 5,
   "metadata": {},
   "outputs": [
    {
     "name": "stderr",
     "output_type": "stream",
     "text": [
      "NumExpr defaulting to 4 threads.\n"
     ]
    }
   ],
   "source": [
    "tickerDF = tickerData.history(period='1d', start='2010-5-31', end='2020-6-11')"
   ]
  },
  {
   "cell_type": "code",
   "execution_count": 6,
   "metadata": {},
   "outputs": [
    {
     "data": {
      "text/plain": [
       "<streamlit.DeltaGenerator.DeltaGenerator at 0x1192ad8d0>"
      ]
     },
     "execution_count": 6,
     "metadata": {},
     "output_type": "execute_result"
    }
   ],
   "source": [
    "st.line_chart(tickerDF.Close)"
   ]
  },
  {
   "cell_type": "code",
   "execution_count": 7,
   "metadata": {},
   "outputs": [
    {
     "data": {
      "text/plain": [
       "<streamlit.DeltaGenerator.DeltaGenerator at 0x1192ad8d0>"
      ]
     },
     "execution_count": 7,
     "metadata": {},
     "output_type": "execute_result"
    }
   ],
   "source": [
    "st.line_chart(tickerDF.Volume)"
   ]
  },
  {
   "cell_type": "code",
   "execution_count": 8,
   "metadata": {},
   "outputs": [
    {
     "data": {
      "text/html": [
       "<div>\n",
       "<style scoped>\n",
       "    .dataframe tbody tr th:only-of-type {\n",
       "        vertical-align: middle;\n",
       "    }\n",
       "\n",
       "    .dataframe tbody tr th {\n",
       "        vertical-align: top;\n",
       "    }\n",
       "\n",
       "    .dataframe thead th {\n",
       "        text-align: right;\n",
       "    }\n",
       "</style>\n",
       "<table border=\"1\" class=\"dataframe\">\n",
       "  <thead>\n",
       "    <tr style=\"text-align: right;\">\n",
       "      <th></th>\n",
       "      <th>Open</th>\n",
       "      <th>High</th>\n",
       "      <th>Low</th>\n",
       "      <th>Close</th>\n",
       "      <th>Volume</th>\n",
       "      <th>Dividends</th>\n",
       "      <th>Stock Splits</th>\n",
       "    </tr>\n",
       "    <tr>\n",
       "      <th>Date</th>\n",
       "      <th></th>\n",
       "      <th></th>\n",
       "      <th></th>\n",
       "      <th></th>\n",
       "      <th></th>\n",
       "      <th></th>\n",
       "      <th></th>\n",
       "    </tr>\n",
       "  </thead>\n",
       "  <tbody>\n",
       "    <tr>\n",
       "      <th>2010-06-01</th>\n",
       "      <td>240.46</td>\n",
       "      <td>245.78</td>\n",
       "      <td>240.30</td>\n",
       "      <td>241.43</td>\n",
       "      <td>5328200</td>\n",
       "      <td>0</td>\n",
       "      <td>0.0</td>\n",
       "    </tr>\n",
       "    <tr>\n",
       "      <th>2010-06-02</th>\n",
       "      <td>243.58</td>\n",
       "      <td>247.18</td>\n",
       "      <td>240.97</td>\n",
       "      <td>246.93</td>\n",
       "      <td>5076500</td>\n",
       "      <td>0</td>\n",
       "      <td>0.0</td>\n",
       "    </tr>\n",
       "    <tr>\n",
       "      <th>2010-06-03</th>\n",
       "      <td>247.80</td>\n",
       "      <td>254.25</td>\n",
       "      <td>247.60</td>\n",
       "      <td>253.05</td>\n",
       "      <td>7294000</td>\n",
       "      <td>0</td>\n",
       "      <td>0.0</td>\n",
       "    </tr>\n",
       "    <tr>\n",
       "      <th>2010-06-04</th>\n",
       "      <td>250.11</td>\n",
       "      <td>254.88</td>\n",
       "      <td>248.60</td>\n",
       "      <td>249.61</td>\n",
       "      <td>7832700</td>\n",
       "      <td>0</td>\n",
       "      <td>0.0</td>\n",
       "    </tr>\n",
       "    <tr>\n",
       "      <th>2010-06-07</th>\n",
       "      <td>249.78</td>\n",
       "      <td>250.71</td>\n",
       "      <td>241.82</td>\n",
       "      <td>243.00</td>\n",
       "      <td>7258100</td>\n",
       "      <td>0</td>\n",
       "      <td>0.0</td>\n",
       "    </tr>\n",
       "    <tr>\n",
       "      <th>...</th>\n",
       "      <td>...</td>\n",
       "      <td>...</td>\n",
       "      <td>...</td>\n",
       "      <td>...</td>\n",
       "      <td>...</td>\n",
       "      <td>...</td>\n",
       "      <td>...</td>\n",
       "    </tr>\n",
       "    <tr>\n",
       "      <th>2020-06-04</th>\n",
       "      <td>1436.78</td>\n",
       "      <td>1441.32</td>\n",
       "      <td>1406.01</td>\n",
       "      <td>1414.30</td>\n",
       "      <td>1349100</td>\n",
       "      <td>0</td>\n",
       "      <td>0.0</td>\n",
       "    </tr>\n",
       "    <tr>\n",
       "      <th>2020-06-05</th>\n",
       "      <td>1415.64</td>\n",
       "      <td>1446.30</td>\n",
       "      <td>1407.62</td>\n",
       "      <td>1440.02</td>\n",
       "      <td>2132100</td>\n",
       "      <td>0</td>\n",
       "      <td>0.0</td>\n",
       "    </tr>\n",
       "    <tr>\n",
       "      <th>2020-06-08</th>\n",
       "      <td>1426.28</td>\n",
       "      <td>1449.00</td>\n",
       "      <td>1424.48</td>\n",
       "      <td>1448.04</td>\n",
       "      <td>1693900</td>\n",
       "      <td>0</td>\n",
       "      <td>0.0</td>\n",
       "    </tr>\n",
       "    <tr>\n",
       "      <th>2020-06-09</th>\n",
       "      <td>1445.24</td>\n",
       "      <td>1467.80</td>\n",
       "      <td>1442.36</td>\n",
       "      <td>1452.08</td>\n",
       "      <td>1681200</td>\n",
       "      <td>0</td>\n",
       "      <td>0.0</td>\n",
       "    </tr>\n",
       "    <tr>\n",
       "      <th>2020-06-10</th>\n",
       "      <td>1461.51</td>\n",
       "      <td>1472.77</td>\n",
       "      <td>1454.36</td>\n",
       "      <td>1464.70</td>\n",
       "      <td>1588100</td>\n",
       "      <td>0</td>\n",
       "      <td>0.0</td>\n",
       "    </tr>\n",
       "  </tbody>\n",
       "</table>\n",
       "<p>2525 rows × 7 columns</p>\n",
       "</div>"
      ],
      "text/plain": [
       "               Open     High      Low    Close   Volume  Dividends  \\\n",
       "Date                                                                 \n",
       "2010-06-01   240.46   245.78   240.30   241.43  5328200          0   \n",
       "2010-06-02   243.58   247.18   240.97   246.93  5076500          0   \n",
       "2010-06-03   247.80   254.25   247.60   253.05  7294000          0   \n",
       "2010-06-04   250.11   254.88   248.60   249.61  7832700          0   \n",
       "2010-06-07   249.78   250.71   241.82   243.00  7258100          0   \n",
       "...             ...      ...      ...      ...      ...        ...   \n",
       "2020-06-04  1436.78  1441.32  1406.01  1414.30  1349100          0   \n",
       "2020-06-05  1415.64  1446.30  1407.62  1440.02  2132100          0   \n",
       "2020-06-08  1426.28  1449.00  1424.48  1448.04  1693900          0   \n",
       "2020-06-09  1445.24  1467.80  1442.36  1452.08  1681200          0   \n",
       "2020-06-10  1461.51  1472.77  1454.36  1464.70  1588100          0   \n",
       "\n",
       "            Stock Splits  \n",
       "Date                      \n",
       "2010-06-01           0.0  \n",
       "2010-06-02           0.0  \n",
       "2010-06-03           0.0  \n",
       "2010-06-04           0.0  \n",
       "2010-06-07           0.0  \n",
       "...                  ...  \n",
       "2020-06-04           0.0  \n",
       "2020-06-05           0.0  \n",
       "2020-06-08           0.0  \n",
       "2020-06-09           0.0  \n",
       "2020-06-10           0.0  \n",
       "\n",
       "[2525 rows x 7 columns]"
      ]
     },
     "execution_count": 8,
     "metadata": {},
     "output_type": "execute_result"
    }
   ],
   "source": [
    "tickerDF"
   ]
  },
  {
   "cell_type": "code",
   "execution_count": 9,
   "metadata": {},
   "outputs": [
    {
     "ename": "SyntaxError",
     "evalue": "invalid syntax (<ipython-input-9-f38c7961f23a>, line 1)",
     "output_type": "error",
     "traceback": [
      "\u001b[0;36m  File \u001b[0;32m\"<ipython-input-9-f38c7961f23a>\"\u001b[0;36m, line \u001b[0;32m1\u001b[0m\n\u001b[0;31m    streamlit run myapp.py\u001b[0m\n\u001b[0m                ^\u001b[0m\n\u001b[0;31mSyntaxError\u001b[0m\u001b[0;31m:\u001b[0m invalid syntax\n"
     ]
    }
   ],
   "source": [
    "streamlit run myapp.py"
   ]
  },
  {
   "cell_type": "code",
   "execution_count": null,
   "metadata": {},
   "outputs": [],
   "source": []
  }
 ],
 "metadata": {
  "kernelspec": {
   "display_name": "Python 3",
   "language": "python",
   "name": "python3"
  },
  "language_info": {
   "codemirror_mode": {
    "name": "ipython",
    "version": 3
   },
   "file_extension": ".py",
   "mimetype": "text/x-python",
   "name": "python",
   "nbconvert_exporter": "python",
   "pygments_lexer": "ipython3",
   "version": "3.7.6"
  }
 },
 "nbformat": 4,
 "nbformat_minor": 4
}
